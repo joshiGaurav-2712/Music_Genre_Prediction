{
 "cells": [
  {
   "cell_type": "code",
   "execution_count": 1,
   "id": "f4474df2-8ba5-4a7c-887b-54e1f8c9faf5",
   "metadata": {},
   "outputs": [],
   "source": [
    "import pandas as pd\n",
    "from sklearn.tree import DecisionTreeClassifier\n",
    "import joblib\n",
    "from sklearn.model_selection import train_test_split\n",
    "from sklearn.metrics import accuracy_score"
   ]
  },
  {
   "cell_type": "code",
   "execution_count": 2,
   "id": "93b395c0-74b2-4fe8-a55d-0391010bcfe6",
   "metadata": {},
   "outputs": [],
   "source": [
    "# df=pd.read_csv('music.csv')"
   ]
  },
  {
   "cell_type": "code",
   "execution_count": 3,
   "id": "cdac62ee-dca1-4271-9dfe-c749849f3424",
   "metadata": {},
   "outputs": [],
   "source": [
    "# df"
   ]
  },
  {
   "cell_type": "code",
   "execution_count": 4,
   "id": "21832634-0386-4a50-9e75-e683731d0db5",
   "metadata": {},
   "outputs": [],
   "source": [
    "# X=df.drop(columns=['genre']) # input dataset (1->Male, 0->Female)\n",
    "# y=df['genre'] # output dataset"
   ]
  },
  {
   "cell_type": "code",
   "execution_count": 5,
   "id": "520e66e1-0691-4756-866b-2904499ecfe1",
   "metadata": {},
   "outputs": [],
   "source": [
    "# model=DecisionTreeClassifier()\n",
    "# model.fit(X.values,y)"
   ]
  },
  {
   "cell_type": "code",
   "execution_count": 6,
   "id": "42dbfdf8-07c6-4967-825b-0bac67ccc9b9",
   "metadata": {},
   "outputs": [],
   "source": [
    "# joblib.dump(model,'music-recommender.joblib')"
   ]
  },
  {
   "cell_type": "code",
   "execution_count": 7,
   "id": "9c38171b-bab3-4fee-b5ae-6b52ef3c912f",
   "metadata": {},
   "outputs": [
    {
     "data": {
      "text/plain": [
       "array(['HipHop', 'Dance'], dtype=object)"
      ]
     },
     "execution_count": 7,
     "metadata": {},
     "output_type": "execute_result"
    }
   ],
   "source": [
    "model=joblib.load('music-recommender.joblib')\n",
    "predictions=model.predict([[21,1],[22,0]])\n",
    "predictions"
   ]
  },
  {
   "cell_type": "code",
   "execution_count": null,
   "id": "f787d98b-68dc-4b45-8e20-3415fc458b32",
   "metadata": {},
   "outputs": [],
   "source": []
  }
 ],
 "metadata": {
  "kernelspec": {
   "display_name": "Python 3 (ipykernel)",
   "language": "python",
   "name": "python3"
  },
  "language_info": {
   "codemirror_mode": {
    "name": "ipython",
    "version": 3
   },
   "file_extension": ".py",
   "mimetype": "text/x-python",
   "name": "python",
   "nbconvert_exporter": "python",
   "pygments_lexer": "ipython3",
   "version": "3.12.4"
  },
  "widgets": {
   "application/vnd.jupyter.widget-state+json": {
    "state": {},
    "version_major": 2,
    "version_minor": 0
   }
  }
 },
 "nbformat": 4,
 "nbformat_minor": 5
}
